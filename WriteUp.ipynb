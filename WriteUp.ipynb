{
 "cells": [
  {
   "cell_type": "code",
   "execution_count": 1,
   "metadata": {},
   "outputs": [
    {
     "name": "stdout",
     "output_type": "stream",
     "text": [
      "Collecting numpy\n",
      "  Downloading numpy-1.19.2-cp37-cp37m-manylinux2010_x86_64.whl (14.5 MB)\n",
      "\u001b[K     |████████████████████████████████| 14.5 MB 4.3 MB/s eta 0:00:01     |██████████████████████          | 10.0 MB 4.3 MB/s eta 0:00:02\n",
      "\u001b[?25hInstalling collected packages: numpy\n",
      "Successfully installed numpy-1.19.2\n",
      "Collecting matplotlib\n",
      "  Downloading matplotlib-3.3.2-cp37-cp37m-manylinux1_x86_64.whl (11.6 MB)\n",
      "\u001b[K     |████████████████████████████████| 11.6 MB 5.5 MB/s eta 0:00:01\n",
      "\u001b[?25hRequirement already satisfied: python-dateutil>=2.1 in /srv/conda/envs/notebook/lib/python3.7/site-packages (from matplotlib) (2.8.1)\n",
      "Collecting cycler>=0.10\n",
      "  Downloading cycler-0.10.0-py2.py3-none-any.whl (6.5 kB)\n",
      "Requirement already satisfied: certifi>=2020.06.20 in /srv/conda/envs/notebook/lib/python3.7/site-packages (from matplotlib) (2020.6.20)\n",
      "Collecting pillow>=6.2.0\n",
      "  Downloading Pillow-7.2.0-cp37-cp37m-manylinux1_x86_64.whl (2.2 MB)\n",
      "\u001b[K     |████████████████████████████████| 2.2 MB 24.5 MB/s eta 0:00:01\n",
      "\u001b[?25hRequirement already satisfied: pyparsing!=2.0.4,!=2.1.2,!=2.1.6,>=2.0.3 in /srv/conda/envs/notebook/lib/python3.7/site-packages (from matplotlib) (2.4.7)\n",
      "Collecting kiwisolver>=1.0.1\n",
      "  Downloading kiwisolver-1.2.0-cp37-cp37m-manylinux1_x86_64.whl (88 kB)\n",
      "\u001b[K     |████████████████████████████████| 88 kB 2.5 MB/s  eta 0:00:01\n",
      "\u001b[?25hRequirement already satisfied: numpy>=1.15 in /srv/conda/envs/notebook/lib/python3.7/site-packages (from matplotlib) (1.19.2)\n",
      "Requirement already satisfied: six>=1.5 in /srv/conda/envs/notebook/lib/python3.7/site-packages (from python-dateutil>=2.1->matplotlib) (1.15.0)\n",
      "Installing collected packages: cycler, pillow, kiwisolver, matplotlib\n",
      "Successfully installed cycler-0.10.0 kiwisolver-1.2.0 matplotlib-3.3.2 pillow-7.2.0\n",
      "Collecting scipy\n",
      "  Downloading scipy-1.5.2-cp37-cp37m-manylinux1_x86_64.whl (25.9 MB)\n",
      "\u001b[K     |████████████████████████████████| 25.9 MB 76 kB/s  eta 0:00:01\n",
      "\u001b[?25hRequirement already satisfied: numpy>=1.14.5 in /srv/conda/envs/notebook/lib/python3.7/site-packages (from scipy) (1.19.2)\n",
      "Installing collected packages: scipy\n",
      "Successfully installed scipy-1.5.2\n"
     ]
    }
   ],
   "source": [
    "!pip install numpy\n",
    "!pip install matplotlib\n",
    "!pip install scipy"
   ]
  },
  {
   "cell_type": "code",
   "execution_count": 1,
   "metadata": {},
   "outputs": [
    {
     "ename": "ModuleNotFoundError",
     "evalue": "No module named 'numpy'",
     "output_type": "error",
     "traceback": [
      "\u001b[0;31m---------------------------------------------------------------------------\u001b[0m",
      "\u001b[0;31mModuleNotFoundError\u001b[0m                       Traceback (most recent call last)",
      "\u001b[0;32m<ipython-input-1-c5529e8c6c41>\u001b[0m in \u001b[0;36m<module>\u001b[0;34m\u001b[0m\n\u001b[0;32m----> 1\u001b[0;31m \u001b[0;32mimport\u001b[0m \u001b[0mnumpy\u001b[0m \u001b[0;32mas\u001b[0m \u001b[0mnp\u001b[0m\u001b[0;34m\u001b[0m\u001b[0;34m\u001b[0m\u001b[0m\n\u001b[0m\u001b[1;32m      2\u001b[0m \u001b[0;32mimport\u001b[0m \u001b[0mmatplotlib\u001b[0m\u001b[0;34m.\u001b[0m\u001b[0mpyplot\u001b[0m \u001b[0;32mas\u001b[0m \u001b[0mplt\u001b[0m\u001b[0;34m\u001b[0m\u001b[0;34m\u001b[0m\u001b[0m\n\u001b[1;32m      3\u001b[0m \u001b[0;32mimport\u001b[0m \u001b[0mscipy\u001b[0m \u001b[0;32mas\u001b[0m \u001b[0msp\u001b[0m\u001b[0;34m\u001b[0m\u001b[0;34m\u001b[0m\u001b[0m\n\u001b[1;32m      4\u001b[0m \u001b[0;32mfrom\u001b[0m \u001b[0mscipy\u001b[0m \u001b[0;32mimport\u001b[0m \u001b[0mintegrate\u001b[0m\u001b[0;34m\u001b[0m\u001b[0;34m\u001b[0m\u001b[0m\n\u001b[1;32m      5\u001b[0m \u001b[0;32mfrom\u001b[0m \u001b[0mscipy\u001b[0m \u001b[0;32mimport\u001b[0m \u001b[0moptimize\u001b[0m\u001b[0;34m\u001b[0m\u001b[0;34m\u001b[0m\u001b[0m\n",
      "\u001b[0;31mModuleNotFoundError\u001b[0m: No module named 'numpy'"
     ]
    }
   ],
   "source": [
    "import numpy as np\n",
    "import matplotlib.pyplot as plt\n",
    "import scipy as sp\n",
    "from scipy import integrate\n",
    "from scipy import optimize\n",
    "from scipy import stats"
   ]
  },
  {
   "cell_type": "code",
   "execution_count": 2,
   "metadata": {},
   "outputs": [
    {
     "ename": "NameError",
     "evalue": "name 'np' is not defined",
     "output_type": "error",
     "traceback": [
      "\u001b[0;31m---------------------------------------------------------------------------\u001b[0m",
      "\u001b[0;31mNameError\u001b[0m                                 Traceback (most recent call last)",
      "\u001b[0;32m<ipython-input-2-bf803885a7c1>\u001b[0m in \u001b[0;36m<module>\u001b[0;34m\u001b[0m\n\u001b[0;32m----> 1\u001b[0;31m \u001b[0mCsL0\u001b[0m\u001b[0;34m=\u001b[0m\u001b[0mnp\u001b[0m\u001b[0;34m.\u001b[0m\u001b[0mgenfromtxt\u001b[0m\u001b[0;34m(\u001b[0m\u001b[0;34m'Caesium A 0.TKA'\u001b[0m\u001b[0;34m,\u001b[0m\u001b[0mdtype\u001b[0m\u001b[0;34m=\u001b[0m\u001b[0mfloat\u001b[0m\u001b[0;34m)\u001b[0m\u001b[0;34m\u001b[0m\u001b[0;34m\u001b[0m\u001b[0m\n\u001b[0m\u001b[1;32m      2\u001b[0m \u001b[0mCsL10\u001b[0m\u001b[0;34m=\u001b[0m\u001b[0mnp\u001b[0m\u001b[0;34m.\u001b[0m\u001b[0mgenfromtxt\u001b[0m\u001b[0;34m(\u001b[0m\u001b[0;34m'Caesium A 10.TKA'\u001b[0m\u001b[0;34m,\u001b[0m\u001b[0mdtype\u001b[0m\u001b[0;34m=\u001b[0m\u001b[0mfloat\u001b[0m\u001b[0;34m)\u001b[0m\u001b[0;34m\u001b[0m\u001b[0;34m\u001b[0m\u001b[0m\n\u001b[1;32m      3\u001b[0m \u001b[0mCsL20\u001b[0m\u001b[0;34m=\u001b[0m\u001b[0mnp\u001b[0m\u001b[0;34m.\u001b[0m\u001b[0mgenfromtxt\u001b[0m\u001b[0;34m(\u001b[0m\u001b[0;34m'Caesium A 20.TKA'\u001b[0m\u001b[0;34m,\u001b[0m\u001b[0mdtype\u001b[0m\u001b[0;34m=\u001b[0m\u001b[0mfloat\u001b[0m\u001b[0;34m)\u001b[0m\u001b[0;34m\u001b[0m\u001b[0;34m\u001b[0m\u001b[0m\n\u001b[1;32m      4\u001b[0m \u001b[0mCsL30\u001b[0m\u001b[0;34m=\u001b[0m\u001b[0mnp\u001b[0m\u001b[0;34m.\u001b[0m\u001b[0mgenfromtxt\u001b[0m\u001b[0;34m(\u001b[0m\u001b[0;34m'Caesium A 30.TKA'\u001b[0m\u001b[0;34m,\u001b[0m\u001b[0mdtype\u001b[0m\u001b[0;34m=\u001b[0m\u001b[0mfloat\u001b[0m\u001b[0;34m)\u001b[0m\u001b[0;34m\u001b[0m\u001b[0;34m\u001b[0m\u001b[0m\n\u001b[1;32m      5\u001b[0m \u001b[0mCsL40\u001b[0m\u001b[0;34m=\u001b[0m\u001b[0mnp\u001b[0m\u001b[0;34m.\u001b[0m\u001b[0mgenfromtxt\u001b[0m\u001b[0;34m(\u001b[0m\u001b[0;34m'Caesium A 40.TKA'\u001b[0m\u001b[0;34m,\u001b[0m\u001b[0mdtype\u001b[0m\u001b[0;34m=\u001b[0m\u001b[0mfloat\u001b[0m\u001b[0;34m)\u001b[0m\u001b[0;34m\u001b[0m\u001b[0;34m\u001b[0m\u001b[0m\n",
      "\u001b[0;31mNameError\u001b[0m: name 'np' is not defined"
     ]
    }
   ],
   "source": [
    "CsL0=np.genfromtxt('Caesium A 0.TKA',dtype=float)\n",
    "CsL10=np.genfromtxt('Caesium A 10.TKA',dtype=float)\n",
    "CsL20=np.genfromtxt('Caesium A 20.TKA',dtype=float)\n",
    "CsL30=np.genfromtxt('Caesium A 30.TKA',dtype=float)\n",
    "CsL40=np.genfromtxt('Caesium A 40.TKA',dtype=float)\n",
    "CsL50=np.genfromtxt('Caesium A 50.TKA',dtype=float)\n",
    "Cs0=np.genfromtxt('Caesium L 0.TKA',dtype=float)\n",
    "Cs10=np.genfromtxt('Caesium L 10.TKA',dtype=float)\n",
    "Cs20=np.genfromtxt('Caesium L 20.TKA',dtype=float)\n",
    "Cs30=np.genfromtxt('Caesium L 30.TKA',dtype=float)\n",
    "Cs40=np.genfromtxt('Caesium L 40.TKA',dtype=float)\n",
    "Cs50=np.genfromtxt('Caesium L 50.TKA',dtype=float)\n",
    "\n",
    "CoL0=np.genfromtxt('Cobalt A 0.TKA',dtype=float)\n",
    "CoL10=np.genfromtxt('Cobalt A 10.TKA',dtype=float)\n",
    "CoL20=np.genfromtxt('Cobalt A 20.TKA',dtype=float)\n",
    "CoL30=np.genfromtxt('Cobalt A 30.TKA',dtype=float)\n",
    "CoL40=np.genfromtxt('Cobalt A 40.TKA',dtype=float)\n",
    "CoL50=np.genfromtxt('Cobalt A 50.TKA',dtype=float)\n",
    "Co0=np.genfromtxt('Cobalt L 0.TKA',dtype=float)\n",
    "Co10=np.genfromtxt('Cobalt L 10.TKA',dtype=float)\n",
    "Co20=np.genfromtxt('Cobalt L 20.TKA',dtype=float)\n",
    "Co30=np.genfromtxt('Cobalt L 30.TKA',dtype=float)\n",
    "Co40=np.genfromtxt('Cobalt L 40.TKA',dtype=float)\n",
    "Co50=np.genfromtxt('Cobalt L 50.TKA',dtype=float)"
   ]
  },
  {
   "cell_type": "markdown",
   "metadata": {},
   "source": [
    "# Experiment 352: Gamma ray interaction with matter\n",
    "\n",
    "## Aim\n",
    "\n",
    "The purpose of this experiment is to confirm the exponential attenuation law for gamma radiation in solid matter, and to measure the attenuation coefficients of 0.662 and 1.333 MeV gamma rays in aluminium and lead."
   ]
  },
  {
   "cell_type": "code",
   "execution_count": 3,
   "metadata": {},
   "outputs": [
    {
     "ename": "ModuleNotFoundError",
     "evalue": "No module named 'matplotlib'",
     "output_type": "error",
     "traceback": [
      "\u001b[0;31m---------------------------------------------------------------------------\u001b[0m",
      "\u001b[0;31mModuleNotFoundError\u001b[0m                       Traceback (most recent call last)",
      "\u001b[0;32m<ipython-input-3-e9eed82f312c>\u001b[0m in \u001b[0;36m<module>\u001b[0;34m\u001b[0m\n\u001b[0;32m----> 1\u001b[0;31m \u001b[0mget_ipython\u001b[0m\u001b[0;34m(\u001b[0m\u001b[0;34m)\u001b[0m\u001b[0;34m.\u001b[0m\u001b[0mrun_line_magic\u001b[0m\u001b[0;34m(\u001b[0m\u001b[0;34m'matplotlib'\u001b[0m\u001b[0;34m,\u001b[0m \u001b[0;34m'inline'\u001b[0m\u001b[0;34m)\u001b[0m\u001b[0;34m\u001b[0m\u001b[0;34m\u001b[0m\u001b[0m\n\u001b[0m\u001b[1;32m      2\u001b[0m \u001b[0;34m\u001b[0m\u001b[0m\n\u001b[1;32m      3\u001b[0m \u001b[0mBackground1\u001b[0m\u001b[0;34m=\u001b[0m\u001b[0mnp\u001b[0m\u001b[0;34m.\u001b[0m\u001b[0mgenfromtxt\u001b[0m\u001b[0;34m(\u001b[0m\u001b[0;34m'Background 1.TKA'\u001b[0m\u001b[0;34m,\u001b[0m\u001b[0mdtype\u001b[0m\u001b[0;34m=\u001b[0m\u001b[0mfloat\u001b[0m\u001b[0;34m)\u001b[0m\u001b[0;34m\u001b[0m\u001b[0;34m\u001b[0m\u001b[0m\n\u001b[1;32m      4\u001b[0m \u001b[0mBackground2\u001b[0m\u001b[0;34m=\u001b[0m\u001b[0mnp\u001b[0m\u001b[0;34m.\u001b[0m\u001b[0mgenfromtxt\u001b[0m\u001b[0;34m(\u001b[0m\u001b[0;34m'Background 2.TKA'\u001b[0m\u001b[0;34m,\u001b[0m\u001b[0mdtype\u001b[0m\u001b[0;34m=\u001b[0m\u001b[0mfloat\u001b[0m\u001b[0;34m)\u001b[0m\u001b[0;34m\u001b[0m\u001b[0;34m\u001b[0m\u001b[0m\n\u001b[1;32m      5\u001b[0m \u001b[0mChan\u001b[0m\u001b[0;34m=\u001b[0m\u001b[0mnp\u001b[0m\u001b[0;34m.\u001b[0m\u001b[0marange\u001b[0m\u001b[0;34m(\u001b[0m\u001b[0;36m0\u001b[0m\u001b[0;34m,\u001b[0m\u001b[0mlen\u001b[0m\u001b[0;34m(\u001b[0m\u001b[0mBackground1\u001b[0m\u001b[0;34m)\u001b[0m\u001b[0;34m,\u001b[0m\u001b[0;36m1\u001b[0m\u001b[0;34m)\u001b[0m\u001b[0;34m\u001b[0m\u001b[0;34m\u001b[0m\u001b[0m\n",
      "\u001b[0;32m/srv/conda/envs/notebook/lib/python3.7/site-packages/IPython/core/interactiveshell.py\u001b[0m in \u001b[0;36mrun_line_magic\u001b[0;34m(self, magic_name, line, _stack_depth)\u001b[0m\n\u001b[1;32m   2324\u001b[0m                 \u001b[0mkwargs\u001b[0m\u001b[0;34m[\u001b[0m\u001b[0;34m'local_ns'\u001b[0m\u001b[0;34m]\u001b[0m \u001b[0;34m=\u001b[0m \u001b[0msys\u001b[0m\u001b[0;34m.\u001b[0m\u001b[0m_getframe\u001b[0m\u001b[0;34m(\u001b[0m\u001b[0mstack_depth\u001b[0m\u001b[0;34m)\u001b[0m\u001b[0;34m.\u001b[0m\u001b[0mf_locals\u001b[0m\u001b[0;34m\u001b[0m\u001b[0;34m\u001b[0m\u001b[0m\n\u001b[1;32m   2325\u001b[0m             \u001b[0;32mwith\u001b[0m \u001b[0mself\u001b[0m\u001b[0;34m.\u001b[0m\u001b[0mbuiltin_trap\u001b[0m\u001b[0;34m:\u001b[0m\u001b[0;34m\u001b[0m\u001b[0;34m\u001b[0m\u001b[0m\n\u001b[0;32m-> 2326\u001b[0;31m                 \u001b[0mresult\u001b[0m \u001b[0;34m=\u001b[0m \u001b[0mfn\u001b[0m\u001b[0;34m(\u001b[0m\u001b[0;34m*\u001b[0m\u001b[0margs\u001b[0m\u001b[0;34m,\u001b[0m \u001b[0;34m**\u001b[0m\u001b[0mkwargs\u001b[0m\u001b[0;34m)\u001b[0m\u001b[0;34m\u001b[0m\u001b[0;34m\u001b[0m\u001b[0m\n\u001b[0m\u001b[1;32m   2327\u001b[0m             \u001b[0;32mreturn\u001b[0m \u001b[0mresult\u001b[0m\u001b[0;34m\u001b[0m\u001b[0;34m\u001b[0m\u001b[0m\n\u001b[1;32m   2328\u001b[0m \u001b[0;34m\u001b[0m\u001b[0m\n",
      "\u001b[0;32m<decorator-gen-108>\u001b[0m in \u001b[0;36mmatplotlib\u001b[0;34m(self, line)\u001b[0m\n",
      "\u001b[0;32m/srv/conda/envs/notebook/lib/python3.7/site-packages/IPython/core/magic.py\u001b[0m in \u001b[0;36m<lambda>\u001b[0;34m(f, *a, **k)\u001b[0m\n\u001b[1;32m    185\u001b[0m     \u001b[0;31m# but it's overkill for just that one bit of state.\u001b[0m\u001b[0;34m\u001b[0m\u001b[0;34m\u001b[0m\u001b[0;34m\u001b[0m\u001b[0m\n\u001b[1;32m    186\u001b[0m     \u001b[0;32mdef\u001b[0m \u001b[0mmagic_deco\u001b[0m\u001b[0;34m(\u001b[0m\u001b[0marg\u001b[0m\u001b[0;34m)\u001b[0m\u001b[0;34m:\u001b[0m\u001b[0;34m\u001b[0m\u001b[0;34m\u001b[0m\u001b[0m\n\u001b[0;32m--> 187\u001b[0;31m         \u001b[0mcall\u001b[0m \u001b[0;34m=\u001b[0m \u001b[0;32mlambda\u001b[0m \u001b[0mf\u001b[0m\u001b[0;34m,\u001b[0m \u001b[0;34m*\u001b[0m\u001b[0ma\u001b[0m\u001b[0;34m,\u001b[0m \u001b[0;34m**\u001b[0m\u001b[0mk\u001b[0m\u001b[0;34m:\u001b[0m \u001b[0mf\u001b[0m\u001b[0;34m(\u001b[0m\u001b[0;34m*\u001b[0m\u001b[0ma\u001b[0m\u001b[0;34m,\u001b[0m \u001b[0;34m**\u001b[0m\u001b[0mk\u001b[0m\u001b[0;34m)\u001b[0m\u001b[0;34m\u001b[0m\u001b[0;34m\u001b[0m\u001b[0m\n\u001b[0m\u001b[1;32m    188\u001b[0m \u001b[0;34m\u001b[0m\u001b[0m\n\u001b[1;32m    189\u001b[0m         \u001b[0;32mif\u001b[0m \u001b[0mcallable\u001b[0m\u001b[0;34m(\u001b[0m\u001b[0marg\u001b[0m\u001b[0;34m)\u001b[0m\u001b[0;34m:\u001b[0m\u001b[0;34m\u001b[0m\u001b[0;34m\u001b[0m\u001b[0m\n",
      "\u001b[0;32m/srv/conda/envs/notebook/lib/python3.7/site-packages/IPython/core/magics/pylab.py\u001b[0m in \u001b[0;36mmatplotlib\u001b[0;34m(self, line)\u001b[0m\n\u001b[1;32m     97\u001b[0m             \u001b[0mprint\u001b[0m\u001b[0;34m(\u001b[0m\u001b[0;34m\"Available matplotlib backends: %s\"\u001b[0m \u001b[0;34m%\u001b[0m \u001b[0mbackends_list\u001b[0m\u001b[0;34m)\u001b[0m\u001b[0;34m\u001b[0m\u001b[0;34m\u001b[0m\u001b[0m\n\u001b[1;32m     98\u001b[0m         \u001b[0;32melse\u001b[0m\u001b[0;34m:\u001b[0m\u001b[0;34m\u001b[0m\u001b[0;34m\u001b[0m\u001b[0m\n\u001b[0;32m---> 99\u001b[0;31m             \u001b[0mgui\u001b[0m\u001b[0;34m,\u001b[0m \u001b[0mbackend\u001b[0m \u001b[0;34m=\u001b[0m \u001b[0mself\u001b[0m\u001b[0;34m.\u001b[0m\u001b[0mshell\u001b[0m\u001b[0;34m.\u001b[0m\u001b[0menable_matplotlib\u001b[0m\u001b[0;34m(\u001b[0m\u001b[0margs\u001b[0m\u001b[0;34m.\u001b[0m\u001b[0mgui\u001b[0m\u001b[0;34m.\u001b[0m\u001b[0mlower\u001b[0m\u001b[0;34m(\u001b[0m\u001b[0;34m)\u001b[0m \u001b[0;32mif\u001b[0m \u001b[0misinstance\u001b[0m\u001b[0;34m(\u001b[0m\u001b[0margs\u001b[0m\u001b[0;34m.\u001b[0m\u001b[0mgui\u001b[0m\u001b[0;34m,\u001b[0m \u001b[0mstr\u001b[0m\u001b[0;34m)\u001b[0m \u001b[0;32melse\u001b[0m \u001b[0margs\u001b[0m\u001b[0;34m.\u001b[0m\u001b[0mgui\u001b[0m\u001b[0;34m)\u001b[0m\u001b[0;34m\u001b[0m\u001b[0;34m\u001b[0m\u001b[0m\n\u001b[0m\u001b[1;32m    100\u001b[0m             \u001b[0mself\u001b[0m\u001b[0;34m.\u001b[0m\u001b[0m_show_matplotlib_backend\u001b[0m\u001b[0;34m(\u001b[0m\u001b[0margs\u001b[0m\u001b[0;34m.\u001b[0m\u001b[0mgui\u001b[0m\u001b[0;34m,\u001b[0m \u001b[0mbackend\u001b[0m\u001b[0;34m)\u001b[0m\u001b[0;34m\u001b[0m\u001b[0;34m\u001b[0m\u001b[0m\n\u001b[1;32m    101\u001b[0m \u001b[0;34m\u001b[0m\u001b[0m\n",
      "\u001b[0;32m/srv/conda/envs/notebook/lib/python3.7/site-packages/IPython/core/interactiveshell.py\u001b[0m in \u001b[0;36menable_matplotlib\u001b[0;34m(self, gui)\u001b[0m\n\u001b[1;32m   3417\u001b[0m         \"\"\"\n\u001b[1;32m   3418\u001b[0m         \u001b[0;32mfrom\u001b[0m \u001b[0mIPython\u001b[0m\u001b[0;34m.\u001b[0m\u001b[0mcore\u001b[0m \u001b[0;32mimport\u001b[0m \u001b[0mpylabtools\u001b[0m \u001b[0;32mas\u001b[0m \u001b[0mpt\u001b[0m\u001b[0;34m\u001b[0m\u001b[0;34m\u001b[0m\u001b[0m\n\u001b[0;32m-> 3419\u001b[0;31m         \u001b[0mgui\u001b[0m\u001b[0;34m,\u001b[0m \u001b[0mbackend\u001b[0m \u001b[0;34m=\u001b[0m \u001b[0mpt\u001b[0m\u001b[0;34m.\u001b[0m\u001b[0mfind_gui_and_backend\u001b[0m\u001b[0;34m(\u001b[0m\u001b[0mgui\u001b[0m\u001b[0;34m,\u001b[0m \u001b[0mself\u001b[0m\u001b[0;34m.\u001b[0m\u001b[0mpylab_gui_select\u001b[0m\u001b[0;34m)\u001b[0m\u001b[0;34m\u001b[0m\u001b[0;34m\u001b[0m\u001b[0m\n\u001b[0m\u001b[1;32m   3420\u001b[0m \u001b[0;34m\u001b[0m\u001b[0m\n\u001b[1;32m   3421\u001b[0m         \u001b[0;32mif\u001b[0m \u001b[0mgui\u001b[0m \u001b[0;34m!=\u001b[0m \u001b[0;34m'inline'\u001b[0m\u001b[0;34m:\u001b[0m\u001b[0;34m\u001b[0m\u001b[0;34m\u001b[0m\u001b[0m\n",
      "\u001b[0;32m/srv/conda/envs/notebook/lib/python3.7/site-packages/IPython/core/pylabtools.py\u001b[0m in \u001b[0;36mfind_gui_and_backend\u001b[0;34m(gui, gui_select)\u001b[0m\n\u001b[1;32m    278\u001b[0m     \"\"\"\n\u001b[1;32m    279\u001b[0m \u001b[0;34m\u001b[0m\u001b[0m\n\u001b[0;32m--> 280\u001b[0;31m     \u001b[0;32mimport\u001b[0m \u001b[0mmatplotlib\u001b[0m\u001b[0;34m\u001b[0m\u001b[0;34m\u001b[0m\u001b[0m\n\u001b[0m\u001b[1;32m    281\u001b[0m \u001b[0;34m\u001b[0m\u001b[0m\n\u001b[1;32m    282\u001b[0m     \u001b[0;32mif\u001b[0m \u001b[0mgui\u001b[0m \u001b[0;32mand\u001b[0m \u001b[0mgui\u001b[0m \u001b[0;34m!=\u001b[0m \u001b[0;34m'auto'\u001b[0m\u001b[0;34m:\u001b[0m\u001b[0;34m\u001b[0m\u001b[0;34m\u001b[0m\u001b[0m\n",
      "\u001b[0;31mModuleNotFoundError\u001b[0m: No module named 'matplotlib'"
     ]
    }
   ],
   "source": [
    "%matplotlib inline\n",
    "\n",
    "Background1=np.genfromtxt('Background 1.TKA',dtype=float)\n",
    "Background2=np.genfromtxt('Background 2.TKA',dtype=float)\n",
    "Chan=np.arange(0,len(Background1),1)\n",
    "bg=([])\n",
    "for i in Chan:\n",
    "    bg=np.append(bg,0.5*(Background1[i]+Background2[i]))\n",
    "    \n",
    "    \n",
    "plt.plot(Chan,(Cs0-bg)) # Imported from 352_DatasetV1, labels swapped for aluminium and lead.\n",
    "plt.plot(Chan,(Cs10-bg))\n",
    "plt.plot(Chan,(Cs20-bg))\n",
    "plt.plot(Chan,(Cs30-bg))\n",
    "plt.plot(Chan,(Cs40-bg))\n",
    "plt.plot(Chan,(Cs50-bg))\n",
    "plt.legend(['0mm','10mm','20mm','30mm','40mm','50mm'])\n",
    "plt.xlabel('Channel number')\n",
    "plt.ylabel('Counts')\n",
    "plt.title('Caesium source with aluminium absorber at varying thickness')\n",
    "plt.show()\n",
    "\n",
    "\n",
    "plt.plot(Chan,(CsL0-bg))\n",
    "plt.plot(Chan,(CsL10-bg))\n",
    "plt.plot(Chan,(CsL20-bg))\n",
    "plt.plot(Chan,(CsL30-bg))\n",
    "plt.plot(Chan,(CsL40-bg))\n",
    "plt.plot(Chan,(CsL50-bg))\n",
    "plt.legend(['0mm','10mm','20mm','30mm','40mm','50mm'])\n",
    "plt.xlabel('Channel number')\n",
    "plt.ylabel('Counts')\n",
    "plt.title('Caesium source with lead absorber at varying thickness')\n",
    "plt.show()"
   ]
  },
  {
   "cell_type": "code",
   "execution_count": 4,
   "metadata": {},
   "outputs": [
    {
     "ename": "ModuleNotFoundError",
     "evalue": "No module named 'matplotlib'",
     "output_type": "error",
     "traceback": [
      "\u001b[0;31m---------------------------------------------------------------------------\u001b[0m",
      "\u001b[0;31mModuleNotFoundError\u001b[0m                       Traceback (most recent call last)",
      "\u001b[0;32m<ipython-input-4-9baabb338392>\u001b[0m in \u001b[0;36m<module>\u001b[0;34m\u001b[0m\n\u001b[0;32m----> 1\u001b[0;31m \u001b[0mget_ipython\u001b[0m\u001b[0;34m(\u001b[0m\u001b[0;34m)\u001b[0m\u001b[0;34m.\u001b[0m\u001b[0mrun_line_magic\u001b[0m\u001b[0;34m(\u001b[0m\u001b[0;34m'matplotlib'\u001b[0m\u001b[0;34m,\u001b[0m \u001b[0;34m'inline'\u001b[0m\u001b[0;34m)\u001b[0m\u001b[0;34m\u001b[0m\u001b[0;34m\u001b[0m\u001b[0m\n\u001b[0m\u001b[1;32m      2\u001b[0m \u001b[0;34m\u001b[0m\u001b[0m\n\u001b[1;32m      3\u001b[0m \u001b[0mplt\u001b[0m\u001b[0;34m.\u001b[0m\u001b[0mplot\u001b[0m\u001b[0;34m(\u001b[0m\u001b[0mChan\u001b[0m\u001b[0;34m,\u001b[0m\u001b[0;34m(\u001b[0m\u001b[0mCo0\u001b[0m\u001b[0;34m-\u001b[0m\u001b[0mbg\u001b[0m\u001b[0;34m)\u001b[0m\u001b[0;34m)\u001b[0m\u001b[0;34m\u001b[0m\u001b[0;34m\u001b[0m\u001b[0m\n\u001b[1;32m      4\u001b[0m \u001b[0mplt\u001b[0m\u001b[0;34m.\u001b[0m\u001b[0mplot\u001b[0m\u001b[0;34m(\u001b[0m\u001b[0mChan\u001b[0m\u001b[0;34m,\u001b[0m\u001b[0;34m(\u001b[0m\u001b[0mCo10\u001b[0m\u001b[0;34m-\u001b[0m\u001b[0mbg\u001b[0m\u001b[0;34m)\u001b[0m\u001b[0;34m)\u001b[0m\u001b[0;34m\u001b[0m\u001b[0;34m\u001b[0m\u001b[0m\n\u001b[1;32m      5\u001b[0m \u001b[0mplt\u001b[0m\u001b[0;34m.\u001b[0m\u001b[0mplot\u001b[0m\u001b[0;34m(\u001b[0m\u001b[0mChan\u001b[0m\u001b[0;34m,\u001b[0m\u001b[0;34m(\u001b[0m\u001b[0mCo20\u001b[0m\u001b[0;34m-\u001b[0m\u001b[0mbg\u001b[0m\u001b[0;34m)\u001b[0m\u001b[0;34m)\u001b[0m\u001b[0;34m\u001b[0m\u001b[0;34m\u001b[0m\u001b[0m\n",
      "\u001b[0;32m/srv/conda/envs/notebook/lib/python3.7/site-packages/IPython/core/interactiveshell.py\u001b[0m in \u001b[0;36mrun_line_magic\u001b[0;34m(self, magic_name, line, _stack_depth)\u001b[0m\n\u001b[1;32m   2324\u001b[0m                 \u001b[0mkwargs\u001b[0m\u001b[0;34m[\u001b[0m\u001b[0;34m'local_ns'\u001b[0m\u001b[0;34m]\u001b[0m \u001b[0;34m=\u001b[0m \u001b[0msys\u001b[0m\u001b[0;34m.\u001b[0m\u001b[0m_getframe\u001b[0m\u001b[0;34m(\u001b[0m\u001b[0mstack_depth\u001b[0m\u001b[0;34m)\u001b[0m\u001b[0;34m.\u001b[0m\u001b[0mf_locals\u001b[0m\u001b[0;34m\u001b[0m\u001b[0;34m\u001b[0m\u001b[0m\n\u001b[1;32m   2325\u001b[0m             \u001b[0;32mwith\u001b[0m \u001b[0mself\u001b[0m\u001b[0;34m.\u001b[0m\u001b[0mbuiltin_trap\u001b[0m\u001b[0;34m:\u001b[0m\u001b[0;34m\u001b[0m\u001b[0;34m\u001b[0m\u001b[0m\n\u001b[0;32m-> 2326\u001b[0;31m                 \u001b[0mresult\u001b[0m \u001b[0;34m=\u001b[0m \u001b[0mfn\u001b[0m\u001b[0;34m(\u001b[0m\u001b[0;34m*\u001b[0m\u001b[0margs\u001b[0m\u001b[0;34m,\u001b[0m \u001b[0;34m**\u001b[0m\u001b[0mkwargs\u001b[0m\u001b[0;34m)\u001b[0m\u001b[0;34m\u001b[0m\u001b[0;34m\u001b[0m\u001b[0m\n\u001b[0m\u001b[1;32m   2327\u001b[0m             \u001b[0;32mreturn\u001b[0m \u001b[0mresult\u001b[0m\u001b[0;34m\u001b[0m\u001b[0;34m\u001b[0m\u001b[0m\n\u001b[1;32m   2328\u001b[0m \u001b[0;34m\u001b[0m\u001b[0m\n",
      "\u001b[0;32m<decorator-gen-108>\u001b[0m in \u001b[0;36mmatplotlib\u001b[0;34m(self, line)\u001b[0m\n",
      "\u001b[0;32m/srv/conda/envs/notebook/lib/python3.7/site-packages/IPython/core/magic.py\u001b[0m in \u001b[0;36m<lambda>\u001b[0;34m(f, *a, **k)\u001b[0m\n\u001b[1;32m    185\u001b[0m     \u001b[0;31m# but it's overkill for just that one bit of state.\u001b[0m\u001b[0;34m\u001b[0m\u001b[0;34m\u001b[0m\u001b[0;34m\u001b[0m\u001b[0m\n\u001b[1;32m    186\u001b[0m     \u001b[0;32mdef\u001b[0m \u001b[0mmagic_deco\u001b[0m\u001b[0;34m(\u001b[0m\u001b[0marg\u001b[0m\u001b[0;34m)\u001b[0m\u001b[0;34m:\u001b[0m\u001b[0;34m\u001b[0m\u001b[0;34m\u001b[0m\u001b[0m\n\u001b[0;32m--> 187\u001b[0;31m         \u001b[0mcall\u001b[0m \u001b[0;34m=\u001b[0m \u001b[0;32mlambda\u001b[0m \u001b[0mf\u001b[0m\u001b[0;34m,\u001b[0m \u001b[0;34m*\u001b[0m\u001b[0ma\u001b[0m\u001b[0;34m,\u001b[0m \u001b[0;34m**\u001b[0m\u001b[0mk\u001b[0m\u001b[0;34m:\u001b[0m \u001b[0mf\u001b[0m\u001b[0;34m(\u001b[0m\u001b[0;34m*\u001b[0m\u001b[0ma\u001b[0m\u001b[0;34m,\u001b[0m \u001b[0;34m**\u001b[0m\u001b[0mk\u001b[0m\u001b[0;34m)\u001b[0m\u001b[0;34m\u001b[0m\u001b[0;34m\u001b[0m\u001b[0m\n\u001b[0m\u001b[1;32m    188\u001b[0m \u001b[0;34m\u001b[0m\u001b[0m\n\u001b[1;32m    189\u001b[0m         \u001b[0;32mif\u001b[0m \u001b[0mcallable\u001b[0m\u001b[0;34m(\u001b[0m\u001b[0marg\u001b[0m\u001b[0;34m)\u001b[0m\u001b[0;34m:\u001b[0m\u001b[0;34m\u001b[0m\u001b[0;34m\u001b[0m\u001b[0m\n",
      "\u001b[0;32m/srv/conda/envs/notebook/lib/python3.7/site-packages/IPython/core/magics/pylab.py\u001b[0m in \u001b[0;36mmatplotlib\u001b[0;34m(self, line)\u001b[0m\n\u001b[1;32m     97\u001b[0m             \u001b[0mprint\u001b[0m\u001b[0;34m(\u001b[0m\u001b[0;34m\"Available matplotlib backends: %s\"\u001b[0m \u001b[0;34m%\u001b[0m \u001b[0mbackends_list\u001b[0m\u001b[0;34m)\u001b[0m\u001b[0;34m\u001b[0m\u001b[0;34m\u001b[0m\u001b[0m\n\u001b[1;32m     98\u001b[0m         \u001b[0;32melse\u001b[0m\u001b[0;34m:\u001b[0m\u001b[0;34m\u001b[0m\u001b[0;34m\u001b[0m\u001b[0m\n\u001b[0;32m---> 99\u001b[0;31m             \u001b[0mgui\u001b[0m\u001b[0;34m,\u001b[0m \u001b[0mbackend\u001b[0m \u001b[0;34m=\u001b[0m \u001b[0mself\u001b[0m\u001b[0;34m.\u001b[0m\u001b[0mshell\u001b[0m\u001b[0;34m.\u001b[0m\u001b[0menable_matplotlib\u001b[0m\u001b[0;34m(\u001b[0m\u001b[0margs\u001b[0m\u001b[0;34m.\u001b[0m\u001b[0mgui\u001b[0m\u001b[0;34m.\u001b[0m\u001b[0mlower\u001b[0m\u001b[0;34m(\u001b[0m\u001b[0;34m)\u001b[0m \u001b[0;32mif\u001b[0m \u001b[0misinstance\u001b[0m\u001b[0;34m(\u001b[0m\u001b[0margs\u001b[0m\u001b[0;34m.\u001b[0m\u001b[0mgui\u001b[0m\u001b[0;34m,\u001b[0m \u001b[0mstr\u001b[0m\u001b[0;34m)\u001b[0m \u001b[0;32melse\u001b[0m \u001b[0margs\u001b[0m\u001b[0;34m.\u001b[0m\u001b[0mgui\u001b[0m\u001b[0;34m)\u001b[0m\u001b[0;34m\u001b[0m\u001b[0;34m\u001b[0m\u001b[0m\n\u001b[0m\u001b[1;32m    100\u001b[0m             \u001b[0mself\u001b[0m\u001b[0;34m.\u001b[0m\u001b[0m_show_matplotlib_backend\u001b[0m\u001b[0;34m(\u001b[0m\u001b[0margs\u001b[0m\u001b[0;34m.\u001b[0m\u001b[0mgui\u001b[0m\u001b[0;34m,\u001b[0m \u001b[0mbackend\u001b[0m\u001b[0;34m)\u001b[0m\u001b[0;34m\u001b[0m\u001b[0;34m\u001b[0m\u001b[0m\n\u001b[1;32m    101\u001b[0m \u001b[0;34m\u001b[0m\u001b[0m\n",
      "\u001b[0;32m/srv/conda/envs/notebook/lib/python3.7/site-packages/IPython/core/interactiveshell.py\u001b[0m in \u001b[0;36menable_matplotlib\u001b[0;34m(self, gui)\u001b[0m\n\u001b[1;32m   3417\u001b[0m         \"\"\"\n\u001b[1;32m   3418\u001b[0m         \u001b[0;32mfrom\u001b[0m \u001b[0mIPython\u001b[0m\u001b[0;34m.\u001b[0m\u001b[0mcore\u001b[0m \u001b[0;32mimport\u001b[0m \u001b[0mpylabtools\u001b[0m \u001b[0;32mas\u001b[0m \u001b[0mpt\u001b[0m\u001b[0;34m\u001b[0m\u001b[0;34m\u001b[0m\u001b[0m\n\u001b[0;32m-> 3419\u001b[0;31m         \u001b[0mgui\u001b[0m\u001b[0;34m,\u001b[0m \u001b[0mbackend\u001b[0m \u001b[0;34m=\u001b[0m \u001b[0mpt\u001b[0m\u001b[0;34m.\u001b[0m\u001b[0mfind_gui_and_backend\u001b[0m\u001b[0;34m(\u001b[0m\u001b[0mgui\u001b[0m\u001b[0;34m,\u001b[0m \u001b[0mself\u001b[0m\u001b[0;34m.\u001b[0m\u001b[0mpylab_gui_select\u001b[0m\u001b[0;34m)\u001b[0m\u001b[0;34m\u001b[0m\u001b[0;34m\u001b[0m\u001b[0m\n\u001b[0m\u001b[1;32m   3420\u001b[0m \u001b[0;34m\u001b[0m\u001b[0m\n\u001b[1;32m   3421\u001b[0m         \u001b[0;32mif\u001b[0m \u001b[0mgui\u001b[0m \u001b[0;34m!=\u001b[0m \u001b[0;34m'inline'\u001b[0m\u001b[0;34m:\u001b[0m\u001b[0;34m\u001b[0m\u001b[0;34m\u001b[0m\u001b[0m\n",
      "\u001b[0;32m/srv/conda/envs/notebook/lib/python3.7/site-packages/IPython/core/pylabtools.py\u001b[0m in \u001b[0;36mfind_gui_and_backend\u001b[0;34m(gui, gui_select)\u001b[0m\n\u001b[1;32m    278\u001b[0m     \"\"\"\n\u001b[1;32m    279\u001b[0m \u001b[0;34m\u001b[0m\u001b[0m\n\u001b[0;32m--> 280\u001b[0;31m     \u001b[0;32mimport\u001b[0m \u001b[0mmatplotlib\u001b[0m\u001b[0;34m\u001b[0m\u001b[0;34m\u001b[0m\u001b[0m\n\u001b[0m\u001b[1;32m    281\u001b[0m \u001b[0;34m\u001b[0m\u001b[0m\n\u001b[1;32m    282\u001b[0m     \u001b[0;32mif\u001b[0m \u001b[0mgui\u001b[0m \u001b[0;32mand\u001b[0m \u001b[0mgui\u001b[0m \u001b[0;34m!=\u001b[0m \u001b[0;34m'auto'\u001b[0m\u001b[0;34m:\u001b[0m\u001b[0;34m\u001b[0m\u001b[0;34m\u001b[0m\u001b[0m\n",
      "\u001b[0;31mModuleNotFoundError\u001b[0m: No module named 'matplotlib'"
     ]
    }
   ],
   "source": [
    "%matplotlib inline\n",
    "\n",
    "plt.plot(Chan,(Co0-bg))\n",
    "plt.plot(Chan,(Co10-bg))\n",
    "plt.plot(Chan,(Co20-bg))\n",
    "plt.plot(Chan,(Co30-bg))\n",
    "plt.plot(Chan,(Co40-bg))\n",
    "plt.plot(Chan,(Co50-bg))\n",
    "plt.legend(['0mm','10mm','20mm','30mm','40mm','50mm'])\n",
    "plt.xlabel('Channel number')\n",
    "plt.ylabel('Counts')\n",
    "plt.title('Cobalt source with aluminium absorber at varying thickness')\n",
    "plt.show()\n",
    "\n",
    "\n",
    "plt.plot(Chan,(CoL0-bg))\n",
    "plt.plot(Chan,(CoL10-bg))\n",
    "plt.plot(Chan,(CoL20-bg))\n",
    "plt.plot(Chan,(CoL30-bg))\n",
    "plt.plot(Chan,(CoL40-bg))\n",
    "plt.plot(Chan,(CoL50-bg))\n",
    "plt.legend(['0mm','10mm','20mm','30mm','40mm','50mm'])\n",
    "plt.xlabel('Channel number')\n",
    "plt.ylabel('Counts')\n",
    "plt.title('Cobalt source with lead absorber at varying thickness')\n",
    "plt.show()"
   ]
  },
  {
   "cell_type": "markdown",
   "metadata": {},
   "source": [
    "The Cobalt-60 sample emits Gamma rays at both 1.17 and 1.33 MeV - these are noticeable as the two distinct peaks at channels ~430 and ~480 respectively. Since the aim of the experiment states that we are interested in attenuation of 1.33 MeV gamma rays, further analysis will ignore this first peak and focus only on the attenuation measured by the second peak at 1.33 MeV. Since I was not able to conduct this experiment in person and am relying on uploaded datasets, I do not know the conditions under which the two separate background measurements were taken and therefore chose to simply take the mean of the two, and subtract this mean from the Co and Cs spectra. I believe that, while not perfect, this will give a more accurate picture of the actual spectrum than randomly choosing one of the two individual measurements. In order to calculate attenuation coefficients, I will numerically integrate the area under the peak in each case, and take this as my value of intensity. I can then fit an exponential curve to the graph of intensity vs absorber thickness in each case.\n",
    "\n",
    "I will do this by scanning the ~40 channel range either side of the peak to determine integral bounds, taking a best estimate from visual comparison of channel energies, and using these bounds for each calculation from the same source, given that the type of absorber will not alter the energy spectrum of the radiation, just the intensity."
   ]
  },
  {
   "cell_type": "code",
   "execution_count": 5,
   "metadata": {},
   "outputs": [
    {
     "ename": "NameError",
     "evalue": "name 'np' is not defined",
     "output_type": "error",
     "traceback": [
      "\u001b[0;31m---------------------------------------------------------------------------\u001b[0m",
      "\u001b[0;31mNameError\u001b[0m                                 Traceback (most recent call last)",
      "\u001b[0;32m<ipython-input-5-a2d226f4168d>\u001b[0m in \u001b[0;36m<module>\u001b[0;34m\u001b[0m\n\u001b[0;32m----> 1\u001b[0;31m \u001b[0mPeakChanCs\u001b[0m\u001b[0;34m=\u001b[0m\u001b[0mnp\u001b[0m\u001b[0;34m.\u001b[0m\u001b[0mwhere\u001b[0m\u001b[0;34m(\u001b[0m\u001b[0;34m(\u001b[0m\u001b[0mCs0\u001b[0m\u001b[0;34m-\u001b[0m\u001b[0mbg\u001b[0m\u001b[0;34m)\u001b[0m\u001b[0;34m==\u001b[0m\u001b[0mnp\u001b[0m\u001b[0;34m.\u001b[0m\u001b[0mmax\u001b[0m\u001b[0;34m(\u001b[0m\u001b[0mCs0\u001b[0m\u001b[0;34m-\u001b[0m\u001b[0mbg\u001b[0m\u001b[0;34m)\u001b[0m\u001b[0;34m)\u001b[0m \u001b[0;31m# Finding the channel of the energy peak\u001b[0m\u001b[0;34m\u001b[0m\u001b[0;34m\u001b[0m\u001b[0m\n\u001b[0m\u001b[1;32m      2\u001b[0m \u001b[0mprint\u001b[0m\u001b[0;34m(\u001b[0m\u001b[0mCs0\u001b[0m\u001b[0;34m[\u001b[0m\u001b[0mPeakChanCs\u001b[0m\u001b[0;34m[\u001b[0m\u001b[0;36m0\u001b[0m\u001b[0;34m]\u001b[0m\u001b[0;34m[\u001b[0m\u001b[0;36m0\u001b[0m\u001b[0;34m]\u001b[0m\u001b[0;34m-\u001b[0m\u001b[0;36m40\u001b[0m\u001b[0;34m:\u001b[0m\u001b[0mPeakChanCs\u001b[0m\u001b[0;34m[\u001b[0m\u001b[0;36m0\u001b[0m\u001b[0;34m]\u001b[0m\u001b[0;34m[\u001b[0m\u001b[0;36m0\u001b[0m\u001b[0;34m]\u001b[0m\u001b[0;34m+\u001b[0m\u001b[0;36m40\u001b[0m\u001b[0;34m]\u001b[0m\u001b[0;34m)\u001b[0m\u001b[0;34m\u001b[0m\u001b[0;34m\u001b[0m\u001b[0m\n\u001b[1;32m      3\u001b[0m \u001b[0mUpperCs\u001b[0m\u001b[0;34m=\u001b[0m\u001b[0;34m(\u001b[0m\u001b[0mPeakChanCs\u001b[0m\u001b[0;34m[\u001b[0m\u001b[0;36m0\u001b[0m\u001b[0;34m]\u001b[0m\u001b[0;34m[\u001b[0m\u001b[0;36m0\u001b[0m\u001b[0;34m]\u001b[0m\u001b[0;34m+\u001b[0m\u001b[0;36m22\u001b[0m\u001b[0;34m)\u001b[0m\u001b[0;34m\u001b[0m\u001b[0;34m\u001b[0m\u001b[0m\n\u001b[1;32m      4\u001b[0m \u001b[0mLowerCs\u001b[0m\u001b[0;34m=\u001b[0m\u001b[0;34m(\u001b[0m\u001b[0mPeakChanCs\u001b[0m\u001b[0;34m[\u001b[0m\u001b[0;36m0\u001b[0m\u001b[0;34m]\u001b[0m\u001b[0;34m[\u001b[0m\u001b[0;36m0\u001b[0m\u001b[0;34m]\u001b[0m\u001b[0;34m-\u001b[0m\u001b[0;36m22\u001b[0m\u001b[0;34m)\u001b[0m\u001b[0;34m\u001b[0m\u001b[0;34m\u001b[0m\u001b[0m\n\u001b[1;32m      5\u001b[0m \u001b[0;34m\u001b[0m\u001b[0m\n",
      "\u001b[0;31mNameError\u001b[0m: name 'np' is not defined"
     ]
    }
   ],
   "source": [
    "PeakChanCs=np.where((Cs0-bg)==np.max(Cs0-bg)) # Finding the channel of the energy peak\n",
    "print(Cs0[PeakChanCs[0][0]-40:PeakChanCs[0][0]+40]) \n",
    "UpperCs=(PeakChanCs[0][0]+22) \n",
    "LowerCs=(PeakChanCs[0][0]-22) \n",
    "\n",
    "\n",
    "IntensityCs0=sp.integrate.trapz(Cs0[LowerCs:UpperCs],x=None)\n",
    "IntensityCs10=sp.integrate.trapz(Cs10[LowerCs:UpperCs],x=None)\n",
    "IntensityCs20=sp.integrate.trapz(Cs20[LowerCs:UpperCs],x=None)\n",
    "IntensityCs30=sp.integrate.trapz(Cs30[LowerCs:UpperCs],x=None)\n",
    "IntensityCs40=sp.integrate.trapz(Cs40[LowerCs:UpperCs],x=None)\n",
    "IntensityCs50=sp.integrate.trapz(Cs50[LowerCs:UpperCs],x=None)\n",
    "IntensityCsL0=sp.integrate.trapz(CsL0[LowerCs:UpperCs],x=None)\n",
    "IntensityCsL10=sp.integrate.trapz(CsL10[LowerCs:UpperCs],x=None)\n",
    "IntensityCsL20=sp.integrate.trapz(CsL20[LowerCs:UpperCs],x=None)\n",
    "IntensityCsL30=sp.integrate.trapz(CsL30[LowerCs:UpperCs],x=None)\n",
    "IntensityCsL40=sp.integrate.trapz(CsL40[LowerCs:UpperCs],x=None)\n",
    "IntensityCsL50=sp.integrate.trapz(CsL50[LowerCs:UpperCs],x=None)\n",
    "\n",
    "print(Co0[430:]) # Just eyeballing channel number since global maximum actually lies in 1st channel so not useful.\n",
    "LowerCo=445 # Eyeballed from data set, since this was easier than setting up any numerical analysis of the peak.\n",
    "UpperCo=487\n",
    "\n",
    "IntensityCo0=sp.integrate.trapz(Co0[LowerCo:UpperCo],x=None)\n",
    "IntensityCo10=sp.integrate.trapz(Co10[LowerCo:UpperCo],x=None)\n",
    "IntensityCo20=sp.integrate.trapz(Co20[LowerCo:UpperCo],x=None)\n",
    "IntensityCo30=sp.integrate.trapz(Co30[LowerCo:UpperCo],x=None)\n",
    "IntensityCo40=sp.integrate.trapz(Co40[LowerCo:UpperCo],x=None)\n",
    "IntensityCo50=sp.integrate.trapz(Co50[LowerCo:UpperCo],x=None)\n",
    "IntensityCoL0=sp.integrate.trapz(CoL0[LowerCo:UpperCo],x=None)\n",
    "IntensityCoL10=sp.integrate.trapz(CoL10[LowerCo:UpperCo],x=None)\n",
    "IntensityCoL20=sp.integrate.trapz(CoL20[LowerCo:UpperCo],x=None)\n",
    "IntensityCoL30=sp.integrate.trapz(CoL30[LowerCo:UpperCo],x=None)\n",
    "IntensityCoL40=sp.integrate.trapz(CoL40[LowerCo:UpperCo],x=None)\n",
    "IntensityCoL50=sp.integrate.trapz(CoL50[LowerCo:UpperCo],x=None)"
   ]
  },
  {
   "cell_type": "code",
   "execution_count": null,
   "metadata": {},
   "outputs": [],
   "source": [
    "def exp(x,I,u,c):\n",
    "    return I * np.e**(-u*x) + c\n",
    "\n",
    "Thickness=np.array([0,1,2,3,4,5])\n",
    "CsAluminiumIntensities=([IntensityCs0,IntensityCs10,IntensityCs20,IntensityCs30,IntensityCs40,IntensityCs50])\n",
    "plt.scatter(Thickness,[CsAluminiumIntensities])\n",
    "plt.xlabel('Absorber thickness, cm')\n",
    "plt.ylabel('Numerical integral of peak counts')\n",
    "plt.title('Intensity vs absorber thickness, Caesium and Aluminium')\n",
    "CsParams=sp.optimize.curve_fit(exp,Thickness,CsAluminiumIntensities,p0=[37000,0.2,100])\n",
    "plt.plot(Thickness,exp(Thickness,CsParams[0][0],CsParams[0][1],CsParams[0][2]),color='orange')\n",
    "CsChiSq=sp.stats.chisquare(CsAluminiumIntensities,exp(Thickness,CsParams[0][0],CsParams[0][1],CsParams[0][2]))\n",
    "\n",
    "plt.show()\n",
    "print('I0:',CsParams[0][0])\n",
    "print('mu:',CsParams[0][1])\n",
    "print('mu std error (from covariance matrix):',CsParams[1][1][1]**0.5)\n",
    "print('Normalised Chi-square (Chi Square / (datapoints - fitted parameters)):',CsChiSq[0]/3)\n",
    "\n",
    "CsLeadIntensities=([IntensityCsL0,IntensityCsL10,IntensityCsL20,IntensityCsL30,IntensityCsL40,IntensityCsL50])\n",
    "plt.scatter(Thickness,[CsLeadIntensities])\n",
    "plt.xlabel('Absorber thickness, cm')\n",
    "plt.ylabel('Numerical integral of peak counts')\n",
    "plt.title('Intensity vs absorber thickness, Caesium and Lead')\n",
    "CsLParams=sp.optimize.curve_fit(exp,Thickness,CsLeadIntensities,p0=[37000,1,400])\n",
    "plt.plot(Thickness,exp(Thickness,CsLParams[0][0],CsLParams[0][1],CsLParams[0][2]),color='orange')\n",
    "CsLChiSq=sp.stats.chisquare(CsLeadIntensities,exp(Thickness,CsLParams[0][0],CsLParams[0][1],CsLParams[0][2]))\n",
    "plt.show()\n",
    "print('I0:',CsLParams[0][0])\n",
    "print('mu:',CsLParams[0][1])\n",
    "print('mu std error (from covariance matrix):',CsLParams[1][1][1]**0.5)\n",
    "print('Normalised Chi-square (Chi Square / (datapoints - fitted parameters)):',CsLChiSq[0]/3)\n",
    "\n",
    "\n",
    "CoAluminiumIntensities=([IntensityCo0,IntensityCo10,IntensityCo20,IntensityCo30,IntensityCo40,IntensityCo50])\n",
    "plt.scatter(Thickness,[CoAluminiumIntensities])\n",
    "plt.xlabel('Absorber thickness, cm')\n",
    "plt.ylabel('Numerical integral of peak counts')\n",
    "plt.title('Intensity vs absorber thickness, Cobalt and Aluminium')\n",
    "CoParams=sp.optimize.curve_fit(exp,Thickness,CoAluminiumIntensities,p0=[37000,0.2,400])\n",
    "plt.plot(Thickness,exp(Thickness,CoParams[0][0],CoParams[0][1],CoParams[0][2]),color='orange')\n",
    "CoChiSq=sp.stats.chisquare(CoAluminiumIntensities,exp(Thickness,CoParams[0][0],CoParams[0][1],CoParams[0][2]))\n",
    "plt.show()\n",
    "print('I0:',CoParams[0][0])\n",
    "print('mu:',CoParams[0][1])\n",
    "print('mu std error (from covariance matrix):',CoParams[1][1][1]**0.5)\n",
    "print('Normalised Chi-square (Chi Square / (datapoints - fitted parameters)):',CoChiSq[0]/3)\n",
    "\n",
    "\n",
    "CoLeadIntensities=([IntensityCoL0,IntensityCoL10,IntensityCoL20,IntensityCoL30,IntensityCoL40,IntensityCoL50])\n",
    "plt.scatter(Thickness,[CoLeadIntensities])\n",
    "plt.xlabel('Absorber thickness, cm')\n",
    "plt.ylabel('Numerical integral of peak counts')\n",
    "plt.title('Intensity vs absorber thickness, Cobalt and Lead')\n",
    "CoLParams=sp.optimize.curve_fit(exp,Thickness,CoLeadIntensities,p0=[37000,1,400])\n",
    "plt.plot(Thickness,exp(Thickness,CoLParams[0][0],CoLParams[0][1],CoLParams[0][2]),color='orange')\n",
    "CoLChiSq=sp.stats.chisquare(CoLeadIntensities,exp(Thickness,CoLParams[0][0],CoLParams[0][1],CoLParams[0][2]))\n",
    "plt.show()\n",
    "print('I0:',CoLParams[0][0])\n",
    "print('mu:',CoLParams[0][1])\n",
    "print('mu std error (from covariance matrix):',CoLParams[1][1][1]**0.5)\n",
    "print('Normalised Chi-square (Chi Square / (datapoints - fitted parameters)):',CoLChiSq[0]/3)\n"
   ]
  },
  {
   "cell_type": "markdown",
   "metadata": {},
   "source": [
    "Initially, I had fit a simple exponential model of the form $I = I_{0} e^{\\mu t}$ to these intensity vs thickness plots. I noticed a very large discrepancy between my results for aluminium and lead absorbers. Plotted on the exponential curve, the graph looked to be a very good fit in both cases - and indeed for the aluminium absorber returned a normalised chi squared value of ~0.9 and ~2.2 for the Caesium and Cobalt samples respectively. However, while visually the model appeared to also be a good fit for the lead graphs, it returned a chi-squared of 933 for the Caesium absorber, suggesting that the model was doing something very wrong. I realised that this was due to the fact that, by integrating over the range of the peak, I was including the small but non-zero energy of the non-compton photons and background energy. In each case, this amounted to an integral value of a few hundred, which was essentially negligible for the aluminium graphs since even with 5cm of absorber thickness, the integral of the peak was in the thousands to tens of thousands. However, this introduced a massive error for the lead graphs, where the expected count was as low as 150. To account for this, I instead used a model which accounts for a constant background: $I = I_{0} e^{\\mu t} + c$. This alters the $\\mu$ values by a small amount, and importantly returns normalised chi-squared values on the order of 1, instead of 1000. Obviously, a constant subtraction is not a perfect model, but I believe that it is a close enough approximation to improve the validity of the models and therefore the estimates for $\\mu$.\n",
    "\n",
    "\n",
    "\n",
    "So we finally extract our linear attenuation coefficient ($cm^{-1}$) in each of the four cases:\n",
    "\n",
    "Caesium-137, Aluminium absorber: $\\mu = 0.178 \\pm 0.006$\n",
    "\n",
    "Caesium-137, Lead absorber: $\\mu = 1.18 \\pm 0.003$\n",
    "\n",
    "Cobalt-60, Aluminium absorber: $\\mu = 0.10 \\pm 0.04$\n",
    "  \n",
    "Cobalt-60, Lead absorber: $\\mu = 0.56 \\pm 0.02$\n",
    "\n",
    "\n"
   ]
  },
  {
   "cell_type": "code",
   "execution_count": 6,
   "metadata": {},
   "outputs": [
    {
     "name": "stdout",
     "output_type": "stream",
     "text": [
      "Mass attenuation, Caesium vs Aluminium: 0.06958561376075059 +/- 0.0023457402265712325\n",
      "Mass attenuation, Caesium vs Lead: 0.10488888888888888 +/- 0.0002824956561840218\n",
      "Mass attenuation, Cobalt vs Aluminium: 0.040656763096168884 +/- 0.01563722465291223\n",
      "Mass attenuation, Cobalt vs Lead: 0.04977777777777778 +/- 0.0017783283207894632\n"
     ]
    }
   ],
   "source": [
    "# Calculation of mu/rho and sigma with error propagation\n",
    "\n",
    "RhoAl = 2.558\n",
    "deltaAl = 0.001\n",
    "RhoPb = 11.25\n",
    "deltaPb = 0.01\n",
    "\n",
    "MuRhoCsAl = 0.178/RhoAl\n",
    "deltaMuRhoCsAl = MuRhoCsAl * ((deltaAl/RhoAl)**2 + (0.006/0.178)**2)**0.5\n",
    "\n",
    "print(\"Mass attenuation, Caesium vs Aluminium:\", MuRhoCsAl,'+/-',deltaMuRhoCsAl)\n",
    "\n",
    "MuRhoCsPb = 1.18/RhoPb\n",
    "deltaMuRhoCsPb = MuRhoCsPb * ((deltaPb/RhoPb)**2 + (0.003/1.18)**2)**0.5\n",
    "\n",
    "print(\"Mass attenuation, Caesium vs Lead:\", MuRhoCsPb,'+/-',deltaMuRhoCsPb)\n",
    "\n",
    "MuRhoCoAl = 0.104/RhoAl\n",
    "deltaMuRhoCoAl = MuRhoCoAl * ((deltaAl/RhoAl)**2 + (0.04/0.104)**2)**0.5\n",
    "\n",
    "print(\"Mass attenuation, Cobalt vs Aluminium:\", MuRhoCoAl,'+/-',deltaMuRhoCoAl)\n",
    "\n",
    "MuRhoCoPb = 0.56/RhoPb\n",
    "deltaMuRhoCoPb = MuRhoCoPb * ((deltaPb/RhoPb)**2 + (0.02/0.56)**2)**0.5\n",
    "\n",
    "print(\"Mass attenuation, Cobalt vs Lead:\", MuRhoCoPb,'+/-',deltaMuRhoCoPb)"
   ]
  },
  {
   "cell_type": "markdown",
   "metadata": {},
   "source": [
    "So we have our mass attenuation coefficients ($cm^2 g^{-1}$):\n",
    "\n",
    "Caesium-137, Aluminium absorber: $\\frac{\\mu}{\\rho} = 0.070 \\pm 0.002$\n",
    "\n",
    "Caesium-137, Lead absorber: $\\frac{\\mu}{\\rho} = 0.1049 \\pm 0.0003$\n",
    "\n",
    "Cobalt-60, Aluminium absorber: $\\frac{\\mu}{\\rho} = 0.041 \\pm 0.016$\n",
    "  \n",
    "Cobalt-60, Lead absorber: $\\frac{\\mu}{\\rho} = 0.050 \\pm 0.002$\n",
    "\n",
    "Finally, we can use $\\frac{\\mu}{\\rho} = \\sigma_{tot} \\frac{N_A}{M}$ to calculate $\\sigma_{tot}$ for each case.\n",
    "\n",
    "For the purposes of error propagation, I will treat Avogadro's number and the molar masses of aluminium and lead as exact constants. \n",
    "\n",
    "Total cross sections ($cm^2$):\n",
    "\n",
    "Caesium-137, Aluminium absorber: $\\sigma_{tot} = (3.14 \\pm 0.09) \\, \\times \\, 10^{-24}$\n",
    "\n",
    "Caesium-137, Lead absorber: $\\sigma_{tot} = (36.1 \\pm 0.1) \\, \\times \\, 10^{-24} $\n",
    "\n",
    "Cobalt-60, Aluminium absorber: $\\sigma_{tot} = (1.8 \\pm 0.7) \\, \\times \\, 10^{-24} $\n",
    "  \n",
    "Cobalt-60, Lead absorber: $\\sigma_{tot} = (17.2 \\pm 0.7) \\, \\times \\, 10^{-24} $\n",
    "\n",
    "It is difficult to ascertain perfectly the validity of these values, as exact alloy composition and thickness etc will have introduced some uncertainty, however the intermediate values for $\\mu$ that I calculated seem to agree to quite a good degree with some published literature. It is also worth noting that the uncertainties in the results for the Cobalt source are much higher than for those with the Caesium source - the absolute intensity of the gamma radiation from the Cobalt source seems to be much less than that of the Caesium source, with a peak count of ~300 as opposed to ~1800, and so the accuracy of the exponential fit is less, since small variations in the count numbers have a much larger effect on the data relatively speaking. In particular, the uncertainty in the values for the aluminium absorber with the cobalt source is very large, so I can't be as confident with my value for this."
   ]
  },
  {
   "cell_type": "markdown",
   "metadata": {},
   "source": [
    "## Questions\n",
    "\n",
    "### 1. Shape of pulse height spectra\n",
    "\n",
    "The peak energy has an approximately Gaussian shape, centred on the channel corresponding to the energy of photons produced by the source - for Caesium-137 this is at 662 keV, resulting not from the Caesium itself, but from gamma decay of one of its own decay products, Barium-137m, to its ground state. This metastable Barium may also decay by internal conversion, producing characteristic X-rays. These are responsible for the smaller, wider peak seen at the much lower energy end of the spectrum, around channels 0-100. Gamma photons that scatter off matter before reaching the scintillator will have an energy significantly lower than the peak, forming the low, but nonzero background between the X-ray and photo peaks. The peak energy has a gaussian distribution because of the nature of the measurement. Since we are counting discrete events, i.e. interactions of photons with the scintillator, and we are measuring a physical process not a perfect mathematical model, we expect to see some variance around the true peak. Since this variance is not a direct result of physical processes, but rather essentially random, it makes sense for the shape of the peak to be gaussian - most events will be counted in the exact peak channel, and then as you get further from the peak energy it gets less likely for a scintillation to occur, following the gaussian exponential model. \n",
    "\n",
    "\n",
    "### 2. Total energy peak\n",
    "\n",
    "We are not interested in the full spectrum of the gamma radiation - we do not want to be counting energy from characteristic x-rays, or from scattered gamma photons, we are interested only in the attenuation due to interaction with the absorber material. Therefore the comparison we wish to make is between how many full-energy gamma photons are incident with the detector in each case - the thicker the absorber, the fewer photons will make it through without scattering, and hence the fewer events there will be in the total energy peak. Choosing this peak range is also helpful as it gives a consistent range for the data, so there can be no systematic error introduced by the choice of channels/energies to be counted, as it is the same for each absorber. \n",
    "\n",
    "### 3. Impurities in aluminium absorbers\n",
    "\n",
    "Since the impurities are in quite small amounts (0.5% Mg and 0.5% Si), and the elements constituting these impurities are quite close to aluminium in atomic number, I would not expect there to be a significant impact on the results. From the NIST datasets for each of these elements, one can check and see that in the energy ranges we are interested in (0.5-1.5 MeV) Magnesium and Silicon are both slightly better absorbers, with linear attenuation coefficients that are between 2% and 4% greater than those for aluminium at the same energy. To make a quick and dirty linear approximation, this would introduce an increase of ~ 0.01 * 0.03 = 0.03% into the measured value of the aluminium absorber's attenuation coefficient. Given that even with the better accuracy of the Caesium sample, my estimates for attenuation coefficients had a relative uncertainty of around 2.5%, I do not believe the 0.03% of the impurities could have made a significant enough difference as to be noticeable. Perhaps with a much more sensitive scintillator, higher count range and longer sample time, so as to produce a much more accurate estimate, this effect would become measurable. \n",
    "\n",
    "### 4. Nature of graphs\n",
    "\n",
    "The graphs of counting rate vs absorber thickness all display an exponential decay trend, with the lead absorbers naturally showing a far steeper gradient than the respective graphs of the aluminium absorbers. As I mentioned earlier, the 40 and 50 mm lead absorbers are so efficient that the counting rate for gamma events is almost zero, but since there is a nonzero background over the whole spectrum, even after subtracting the calibration datasets, integrating this range will produce a result that is much higher than the expected count. Hence to account for this I changed the exponential fit model I was using to include a constant term - small enough to be insignificant to the high-count peaks, such as in the aluminium graphs, but large enough to smooth out the curve to make it fit the low count datapoints. In each case I found this model to be a good fit visually, and the normalised chi-squared values I obtained tend to agree with this assessment. \n",
    "\n",
    "### 5. Klein-Nishina formula for Compton cross scection\n",
    "\n"
   ]
  },
  {
   "cell_type": "code",
   "execution_count": null,
   "metadata": {},
   "outputs": [],
   "source": []
  }
 ],
 "metadata": {
  "kernelspec": {
   "display_name": "Python 3",
   "language": "python",
   "name": "python3"
  },
  "language_info": {
   "codemirror_mode": {
    "name": "ipython",
    "version": 3
   },
   "file_extension": ".py",
   "mimetype": "text/x-python",
   "name": "python",
   "nbconvert_exporter": "python",
   "pygments_lexer": "ipython3",
   "version": "3.7.8"
  }
 },
 "nbformat": 4,
 "nbformat_minor": 4
}
